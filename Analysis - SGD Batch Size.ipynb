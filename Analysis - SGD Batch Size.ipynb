{
 "cells": [
  {
   "cell_type": "markdown",
   "metadata": {},
   "source": [
    "# Analysis - SGD Batch Size"
   ]
  },
  {
   "cell_type": "markdown",
   "metadata": {},
   "source": [
    "## Packages and Data Set"
   ]
  },
  {
   "cell_type": "markdown",
   "metadata": {},
   "source": [
    "### Import Packages"
   ]
  },
  {
   "cell_type": "code",
   "execution_count": 1,
   "metadata": {
    "collapsed": true
   },
   "outputs": [],
   "source": [
    "# package imports for numeric computing\n",
    "import numpy as np\n",
    "import random as rnd\n",
    "# Inputting latex\n",
    "from IPython.display import display, Math, Latex\n",
    "# package import for graphing\n",
    "import matplotlib.pyplot as plt\n",
    "%matplotlib inline"
   ]
  },
  {
   "cell_type": "markdown",
   "metadata": {},
   "source": [
    "### Generating Data"
   ]
  },
  {
   "cell_type": "code",
   "execution_count": 2,
   "metadata": {
    "collapsed": false
   },
   "outputs": [
    {
     "name": "stdout",
     "output_type": "stream",
     "text": [
      "The function we will be predicting\n"
     ]
    },
    {
     "data": {
      "text/latex": [
       "$$y_i = sin(2\\pi x_i) + \\frac{3}{2}rand()$$"
      ],
      "text/plain": [
       "<IPython.core.display.Math object>"
      ]
     },
     "metadata": {},
     "output_type": "display_data"
    },
    {
     "name": "stdout",
     "output_type": "stream",
     "text": [
      "Where rand() is used to add noise to the data.\n"
     ]
    }
   ],
   "source": [
    "# Generating sample training data\n",
    "# Function: sin(2pi*x) + rand()\n",
    "# rand used to add noise to the training data and norm. dist.\n",
    "trainVals = 1000\n",
    "X = [rnd.random() for r in xrange(trainVals)]\n",
    "Y = [np.sin(2*np.pi*x) + (2)*np.random.normal(0,0.6) for x in X]\n",
    "trainData = np.column_stack((X,Y))\n",
    "print(\"The function we will be predicting\")\n",
    "display(Math(r'y_i = sin(2\\pi x_i) + \\frac{3}{2}rand()'))\n",
    "print(\"Where rand() is used to add noise to the data.\") "
   ]
  },
  {
   "cell_type": "markdown",
   "metadata": {},
   "source": [
    "### Graphing the training data"
   ]
  },
  {
   "cell_type": "markdown",
   "metadata": {},
   "source": [
    "### The Effect of Noise to a Dataset"
   ]
  },
  {
   "cell_type": "markdown",
   "metadata": {},
   "source": [
    "## Defining Functions"
   ]
  },
  {
   "cell_type": "markdown",
   "metadata": {},
   "source": [
    "### Regression Function"
   ]
  },
  {
   "cell_type": "code",
   "execution_count": 3,
   "metadata": {
    "collapsed": false
   },
   "outputs": [
    {
     "name": "stdout",
     "output_type": "stream",
     "text": [
      "The polynomial regression function we're using is defined:\n"
     ]
    },
    {
     "data": {
      "text/latex": [
       "$$f(x,w) = \\sum_{i=0}^{n}w_{i}x^i$$"
      ],
      "text/plain": [
       "<IPython.core.display.Math object>"
      ]
     },
     "metadata": {},
     "output_type": "display_data"
    }
   ],
   "source": [
    "def y(x,weights):\n",
    "    yVector = [weights[i]*x**i for i in range(0,len(weights))]\n",
    "    return sum(yVector)\n",
    "print(\"The polynomial regression function we're using is defined:\")\n",
    "display(Math(r'f(x,w) = \\sum_{i=0}^{n}w_{i}x^i'))"
   ]
  },
  {
   "cell_type": "markdown",
   "metadata": {},
   "source": [
    "### Loss Functions"
   ]
  },
  {
   "cell_type": "code",
   "execution_count": 4,
   "metadata": {
    "collapsed": false
   },
   "outputs": [
    {
     "name": "stdout",
     "output_type": "stream",
     "text": [
      "The two loss functions we will look at are:\n"
     ]
    },
    {
     "data": {
      "text/latex": [
       "$$loss(x) = \\frac{1}{2m}\\bigg(\\sum_{i=1}^{m}\\big(f(x_i,W) - y_i\\big)^2\\bigg)$$"
      ],
      "text/plain": [
       "<IPython.core.display.Math object>"
      ]
     },
     "metadata": {},
     "output_type": "display_data"
    },
    {
     "data": {
      "text/latex": [
       "$$lossWD(x) = \\frac{1}{2m}\\bigg(\\sum_{i=1}^{m}\\big(f(x_i,W) - y_i\\big)^2\\bigg) + \\frac{\\lambda}{2}||W||^2$$"
      ],
      "text/plain": [
       "<IPython.core.display.Math object>"
      ]
     },
     "metadata": {},
     "output_type": "display_data"
    },
    {
     "name": "stdout",
     "output_type": "stream",
     "text": [
      " lossWD(x) includes a weight decay function used for regularisation of the model\n"
     ]
    }
   ],
   "source": [
    "# Basic cost funct.\n",
    "# divided through by training data length the normalize\n",
    "def loss(w,trainData):\n",
    "    cost = 0\n",
    "    for i in range(0,len(trainData)):\n",
    "        cost += (y(trainData[i][0],w) - trainData[i][1])**2 \n",
    "    return cost/(2*len(trainData))\n",
    "\n",
    "# Cost funct. with weight decay\n",
    "# remember to add ld to main funct. when using\n",
    "def lossWD(w, trainData,ld):\n",
    "    cost = 0\n",
    "    for i in range(0,len(trainData)):\n",
    "        cost += (y(trainData[i][0],w) - trainData[i][1])**2 + (ld/2)*abs(sum(w))**2\n",
    "    return cost/(2*len(trainData))\n",
    "\n",
    "print( \"The two loss functions we will look at are:\")\n",
    "display(Math(r'loss(x) = \\frac{1}{2m}\\bigg(\\sum_{i=1}^{m}\\big(f(x_i,W) - y_i\\big)^2\\bigg)'))\n",
    "display(Math(r'lossWD(x) = \\frac{1}{2m}\\bigg(\\sum_{i=1}^{m}\\big(f(x_i,W) - y_i\\big)^2\\bigg) + \\frac{\\lambda}{2}||W||^2'))\n",
    "print(\" lossWD(x) includes a weight decay function used for regularisation of the model\")"
   ]
  },
  {
   "cell_type": "markdown",
   "metadata": {},
   "source": [
    "### Gradient Descent Function"
   ]
  },
  {
   "cell_type": "code",
   "execution_count": 5,
   "metadata": {
    "collapsed": false
   },
   "outputs": [
    {
     "name": "stdout",
     "output_type": "stream",
     "text": [
      "The gradient descent algorithm for this polynomial learner is:\n"
     ]
    },
    {
     "data": {
      "text/latex": [
       "$$w_i = w_i-\\frac{\\alpha}{n}\\sum_{j=1}^{n}\\big(f(x_j,W)-y_j\\big)x_j^i$$"
      ],
      "text/plain": [
       "<IPython.core.display.Math object>"
      ]
     },
     "metadata": {},
     "output_type": "display_data"
    }
   ],
   "source": [
    "# normalize\n",
    "\n",
    "def gradDescent(weighting,trainData,learnRate,ld):\n",
    "    wGrad = np.zeros(len(weighting))\n",
    "    N = len(trainData)\n",
    "    for point in range(0, N):   \n",
    "        for i in range(0, len(weighting)):\n",
    "            wGrad[i] += trainData[point][0]**i*(y(trainData[point][0],weighting) \\\n",
    "            - trainData[point][1]) - ld*abs(weighting[i])\n",
    "    w_ = [origW - learnRate*(float(1)/float(N))*wIter for origW, wIter \\\n",
    "          in zip(weighting, wGrad)]\n",
    "    return w_\n",
    "\n",
    "print( \"The gradient descent algorithm for this polynomial learner is:\")\n",
    "display(Math(r'w_i = w_i-\\frac{\\alpha}{n}\\sum_{j=1}^{n}\\big(f(x_j,W)-y_j\\big)x_j^i'))"
   ]
  },
  {
   "cell_type": "markdown",
   "metadata": {},
   "source": [
    "## Training Process"
   ]
  },
  {
   "cell_type": "markdown",
   "metadata": {},
   "source": [
    "### Optimisation Function"
   ]
  },
  {
   "cell_type": "code",
   "execution_count": 6,
   "metadata": {
    "collapsed": false
   },
   "outputs": [
    {
     "name": "stdout",
     "output_type": "stream",
     "text": [
      "optimise_() is a iterative function using gradient descent to find the optimal values for the weighting vector.\n"
     ]
    }
   ],
   "source": [
    "# Iteration Function\n",
    "# optimise_() returns an array of the weights and error at n/4, n/2, 3n/4, n iterations.\"\n",
    "def optimise_(weighting, trainData, learnRate, ld, maxIter, minTOL):\n",
    "    n = 0\n",
    "    TOL = 10e10\n",
    "    optList = [] # Probably should change var name\n",
    "    # look in bishops book, Tychonov regularization, ld = 1.0 e-18\n",
    "    h = []\n",
    "    while n < maxIter and  TOL > minTOL:\n",
    "        weighting = gradDescent(weighting, trainData, learnRate,ld)\n",
    "        TOL = loss(weighting, trainData)\n",
    "        n += 1\n",
    "        if n%(int(round(maxIter/5))) == 0:\n",
    "            optList += [[n, TOL, weighting]]\n",
    "            print(\"The TOL at n = \" + str(n) +\" is \" + str(round(TOL,6))) \n",
    "        h += [[n, TOL]]\n",
    "    return optList, h\n",
    "print(\"optimise_() is a iterative function using gradient descent to find the optimal\" \\\n",
    "     + \" values for the weighting vector.\")"
   ]
  },
  {
   "cell_type": "code",
   "execution_count": 7,
   "metadata": {
    "collapsed": false
   },
   "outputs": [
    {
     "name": "stdout",
     "output_type": "stream",
     "text": [
      "optimise_() is a iterative function using SGD to find the optimal values for the weighting vector.\n"
     ]
    }
   ],
   "source": [
    "def optimiseSGD(weighting, trainData, learnRate, ld, batchSize, maxIter,minTOL):\n",
    "    iteration = 0; TOL = 10e10; n = 10e10\n",
    "    optList = []; optCond = [10e10, None,None]\n",
    "    h = []\n",
    "    while iteration < maxIter and TOL > minTOL:\n",
    "        if (n + batchSize - len(trainData)) > 0:\n",
    "            trainDataIndex = range(len(trainData))\n",
    "            rnd.shuffle(trainDataIndex)\n",
    "            trainData = [trainData[i] for i in trainDataIndex]\n",
    "            n = 0    \n",
    "        weighting = gradDescent(weighting, trainData[n:n+batchSize], learnRate,ld)\n",
    "        TOL = loss(weighting, trainData)\n",
    "        iteration += 1; n += batchSize\n",
    "        if iteration%(int(round(maxIter/5))) == 0:\n",
    "            optList += [[iteration, TOL, weighting]]\n",
    "            print(\"The TOL at iteration \" + str(iteration) +\" is \" + str(round(TOL,6)))\n",
    "        if TOL < optCond[0]:\n",
    "            optCond = [TOL, iteration, weighting]\n",
    "        h += [[iteration, TOL]]\n",
    "    optList += [optCond]\n",
    "    print(\"Optimal optimisation at n = \"+str(optList[-1][1])+\" of TOL: \"\\\n",
    "          +str(optList[-1][0]))\n",
    "    return optList, h\n",
    "print(\"optimise_() is a iterative function using SGD to find the optimal\" \\\n",
    "     + \" values for the weighting vector.\")"
   ]
  },
  {
   "cell_type": "markdown",
   "metadata": {},
   "source": [
    "## Learner Results"
   ]
  },
  {
   "cell_type": "markdown",
   "metadata": {},
   "source": [
    "### Perform Optimisation"
   ]
  },
  {
   "cell_type": "code",
   "execution_count": 8,
   "metadata": {
    "collapsed": true
   },
   "outputs": [],
   "source": [
    "# to measure time\n",
    "import time"
   ]
  },
  {
   "cell_type": "code",
   "execution_count": 9,
   "metadata": {
    "collapsed": true
   },
   "outputs": [],
   "source": [
    "def optAnalysis(underlyingFunct, trainSetSize, randParam, learnRate, maxIter):\n",
    "    X = [rnd.random() for r in xrange(trainSetSize)]\n",
    "    Y = [underlyingFunct(x) + randParam[0]*np.random.normal(0,randParam[1]) \\\n",
    "         for x in X]\n",
    "    trainData = np.column_stack((X,Y))\n",
    "    print(\"Training Data Plot\")\n",
    "    plt.plot(X,Y,\"o\")\n",
    "    plt.xlabel(\"x Vals\"); plt.ylabel(\"y Vals\")\n",
    "    plt.show()\n",
    "    cond = raw_input(\"happy with the underlying function? \")\n",
    "    if cond == \"yes\" or cond == \"Yes\":\n",
    "        initWeights = [2*rnd.random()-1 for _ in range(10)]\n",
    "        SGDList = [[5,'r',\"red\"],[10,'b',\"blue\"],[50,'c',\"cyan\"],[100,'k',\"black\"]]\n",
    "        #SGDList = [[50,'c',\"cyan\"],[100,'k',\"black\"]]\n",
    "        print(\"___Batch Gradient Descent___\")\n",
    "        print(\"Plot colour: green\")\n",
    "        startTime = time.time()\n",
    "        optBatchList, batchVals = optimise_(initWeights, trainData, learnRate,\\\n",
    "                                            1e-5, maxIter, 10e-5)\n",
    "        nVals = [batchVals[i][0] for i in range(len(batchVals))]\n",
    "        TOLVals = [batchVals[i][1] for i in range(len(batchVals))]\n",
    "        plt.plot(nVals, TOLVals, 'g')\n",
    "        print(\"%s seconds to train\" % (round(time.time() - startTime,4)))\n",
    "        for i in range(len(SGDList)):\n",
    "            print(\"\")\n",
    "            print(\"___SGB with batch size \"+str(SGDList[i][0])+\"___\")\n",
    "            print(\"Plot colour: \"+SGDList[i][2])\n",
    "            startTime = time.time()\n",
    "            optSGDList, SGDVals = optimiseSGD(initWeights, trainData, learnRate, \\\n",
    "                                            1e-5, SGDList[i][0],3*maxIter, 10e-5)\n",
    "            print(\"%s seconds to train\" % (round(time.time() - startTime,4)))\n",
    "            nVals = [SGDVals[j][0] for j in range(len(SGDVals))]\n",
    "            TOLVals = [SGDVals[j][1] for j in range(len(SGDVals))]\n",
    "            plt.plot(nVals, TOLVals,SGDList[i][1])\n",
    "        plt.xlabel(\"Iterations\")\n",
    "        plt.ylabel(\"TOL\")\n",
    "        plt.show()"
   ]
  },
  {
   "cell_type": "code",
   "execution_count": 10,
   "metadata": {
    "collapsed": false
   },
   "outputs": [
    {
     "name": "stdout",
     "output_type": "stream",
     "text": [
      "Training Data Plot\n"
     ]
    },
    {
     "data": {
      "image/png": "[encoded data removed]",
      "text/plain": [
       "<matplotlib.figure.Figure at 0x7fe4a6353690>"
      ]
     },
     "metadata": {},
     "output_type": "display_data"
    },
    {
     "name": "stdout",
     "output_type": "stream",
     "text": [
      "happy with the underlying function? yes\n",
      "___Batch Gradient Descent___\n",
      "Plot colour: green\n",
      "The TOL at n = 20 is 1.155635\n",
      "The TOL at n = 40 is 1.140035\n",
      "The TOL at n = 60 is 1.134571\n",
      "The TOL at n = 80 is 1.131947\n",
      "The TOL at n = 100 is 1.130181\n",
      "4.9472 seconds to train\n",
      "\n",
      "___SGB with batch size 5___\n",
      "Plot colour: red\n",
      "The TOL at iteration 60 is 5.852624\n",
      "The TOL at iteration 120 is 2.01387\n",
      "The TOL at iteration 180 is 1.29478\n",
      "The TOL at iteration 240 is 1.239693\n",
      "The TOL at iteration 300 is 7.08889\n",
      "Optimal optimisation at n = 255 of TOL: 1.12302649147\n",
      "1.2158 seconds to train\n",
      "\n",
      "___SGB with batch size 10___\n",
      "Plot colour: blue\n",
      "The TOL at iteration 60 is 1.615588\n",
      "The TOL at iteration 120 is 1.417708\n",
      "The TOL at iteration 180 is 2.046711\n",
      "The TOL at iteration 240 is 1.245191\n",
      "The TOL at iteration 300 is 1.132009\n",
      "Optimal optimisation at n = 194 of TOL: 1.12575042879\n",
      "1.422 seconds to train\n",
      "\n",
      "___SGB with batch size 50___\n",
      "Plot colour: cyan\n",
      "The TOL at iteration 60 is 1.269317\n",
      "The TOL at iteration 120 is 1.129839\n",
      "The TOL at iteration 180 is 1.14723\n",
      "The TOL at iteration 240 is 1.124526\n",
      "The TOL at iteration 300 is 1.125022\n",
      "Optimal optimisation at n = 257 of TOL: 1.12212029325\n",
      "2.3282 seconds to train\n",
      "\n",
      "___SGB with batch size 100___\n",
      "Plot colour: black\n",
      "The TOL at iteration 60 is 1.162414\n",
      "The TOL at iteration 120 is 1.132994\n",
      "The TOL at iteration 180 is 1.161204\n",
      "The TOL at iteration 240 is 1.281294\n",
      "The TOL at iteration 300 is 1.1423\n",
      "Optimal optimisation at n = 292 of TOL: 1.12048162466\n",
      "3.4363 seconds to train\n"
     ]
    },
    {
     "data": {
      "image/png": "[encoded data removed]",
      "text/plain": [
       "<matplotlib.figure.Figure at 0x7fe4a3e09150>"
      ]
     },
     "metadata": {},
     "output_type": "display_data"
    }
   ],
   "source": [
    "def f(x):\n",
    "    return np.sin(2*np.pi*x)\n",
    "\n",
    "optAnalysis(f, 500, [0.5,3],1,101)"
   ]
  }
 ],
 "metadata": {
  "kernelspec": {
   "display_name": "Python 2",
   "language": "python",
   "name": "python2"
  },
  "language_info": {
   "codemirror_mode": {
    "name": "ipython",
    "version": 2
   },
   "file_extension": ".py",
   "mimetype": "text/x-python",
   "name": "python",
   "nbconvert_exporter": "python",
   "pygments_lexer": "ipython2",
   "version": "2.7.13"
  }
 },
 "nbformat": 4,
 "nbformat_minor": 0
}
