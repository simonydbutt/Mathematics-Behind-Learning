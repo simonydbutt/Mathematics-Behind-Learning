{
 "cells": [
  {
   "cell_type": "markdown",
   "metadata": {},
   "source": [
    "# Polynomial Learner"
   ]
  },
  {
   "cell_type": "markdown",
   "metadata": {},
   "source": [
    "## Packages and Data Set"
   ]
  },
  {
   "cell_type": "markdown",
   "metadata": {},
   "source": [
    "### Import Packages"
   ]
  },
  {
   "cell_type": "code",
   "execution_count": 1,
   "metadata": {
    "collapsed": true
   },
   "outputs": [],
   "source": [
    "# package imports for numeric computing\n",
    "import numpy as np\n",
    "import random as rnd\n",
    "# Inputting latex\n",
    "from IPython.display import display, Math, Latex\n",
    "# package import for graphing\n",
    "import matplotlib.pyplot as plt\n",
    "%matplotlib inline"
   ]
  },
  {
   "cell_type": "markdown",
   "metadata": {},
   "source": [
    "### Generating Data"
   ]
  },
  {
   "cell_type": "code",
   "execution_count": 2,
   "metadata": {
    "collapsed": false
   },
   "outputs": [
    {
     "name": "stdout",
     "output_type": "stream",
     "text": [
      "The function we will be predicting\n"
     ]
    },
    {
     "data": {
      "text/latex": [
       "$$y_i = sin(2\\pi x_i) + \\frac{3}{2}rand()$$"
      ],
      "text/plain": [
       "<IPython.core.display.Math object>"
      ]
     },
     "metadata": {},
     "output_type": "display_data"
    },
    {
     "name": "stdout",
     "output_type": "stream",
     "text": [
      "Where rand() is used to add noise to the data.\n"
     ]
    }
   ],
   "source": [
    "# Generating sample training data\n",
    "# Function: sin(2pi*x) + rand()\n",
    "# rand used to add noise to the training data and norm. dist.\n",
    "trainVals = 100\n",
    "X = [rnd.random() for r in xrange(trainVals)]\n",
    "Y = [np.sin(2*np.pi*x) + (3/2)*np.random.normal(0,0.6) for x in X]\n",
    "trainData = np.column_stack((X,Y))\n",
    "print(\"The function we will be predicting\")\n",
    "display(Math(r'y_i = sin(2\\pi x_i) + \\frac{3}{2}rand()'))\n",
    "print(\"Where rand() is used to add noise to the data.\") "
   ]
  },
  {
   "cell_type": "markdown",
   "metadata": {},
   "source": [
    "### Graphing the training data"
   ]
  },
  {
   "cell_type": "code",
   "execution_count": 3,
   "metadata": {
    "collapsed": false
   },
   "outputs": [
    {
     "data": {
      "image/png": "[encoded data removed]",
      "text/plain": [
       "<matplotlib.figure.Figure at 0x7ff64c085890>"
      ]
     },
     "metadata": {},
     "output_type": "display_data"
    }
   ],
   "source": [
    "plt.plot(X,Y,\"o\")\n",
    "plt.xlabel(\"Input Values\")\n",
    "plt.ylabel(\"Target Values\")\n",
    "plt.show()"
   ]
  },
  {
   "cell_type": "markdown",
   "metadata": {},
   "source": [
    "### The Effect of Noise to a Dataset"
   ]
  },
  {
   "cell_type": "code",
   "execution_count": 4,
   "metadata": {
    "collapsed": false
   },
   "outputs": [
    {
     "name": "stdout",
     "output_type": "stream",
     "text": [
      "These are plots of the same underlying function sin(2*pi*x), with the standard deviation of the gaussian random noise function being the only difference\n"
     ]
    },
    {
     "data": {
      "text/latex": [
       "$$\\sigma = 0.15$$"
      ],
      "text/plain": [
       "<IPython.core.display.Math object>"
      ]
     },
     "metadata": {},
     "output_type": "display_data"
    },
    {
     "data": {
      "image/png": "[encoded data removed]",
      "text/plain": [
       "<matplotlib.figure.Figure at 0x7ff64c085990>"
      ]
     },
     "metadata": {},
     "output_type": "display_data"
    },
    {
     "data": {
      "text/latex": [
       "$$\\sigma = 0.85$$"
      ],
      "text/plain": [
       "<IPython.core.display.Math object>"
      ]
     },
     "metadata": {},
     "output_type": "display_data"
    },
    {
     "data": {
      "image/png": "[encoded data removed]",
      "text/plain": [
       "<matplotlib.figure.Figure at 0x7ff62085e2d0>"
      ]
     },
     "metadata": {},
     "output_type": "display_data"
    }
   ],
   "source": [
    "print(\"These are plots of the same underlying function sin(2*pi*x), with the standard \"\\\n",
    "      +\"deviation of the gaussian random noise function being the only difference\")\n",
    "Y_1 = [np.sin(2*np.pi*x) + (3/2)*np.random.normal(0,0.15) for x in X]\n",
    "Y_2 = [np.sin(2*np.pi*x) + (3/2)*np.random.normal(0,0.85) for x in X]\n",
    "display(Math(r'\\sigma = 0.15'))\n",
    "plt.plot(X,Y_1,'o'); plt.show()\n",
    "display(Math(r'\\sigma = 0.85'))\n",
    "plt.plot(X,Y_2,'o'); plt.show()\n"
   ]
  },
  {
   "cell_type": "markdown",
   "metadata": {},
   "source": [
    "## Defining Functions"
   ]
  },
  {
   "cell_type": "markdown",
   "metadata": {},
   "source": [
    "### Regression Function"
   ]
  },
  {
   "cell_type": "code",
   "execution_count": 5,
   "metadata": {
    "collapsed": false
   },
   "outputs": [
    {
     "name": "stdout",
     "output_type": "stream",
     "text": [
      "The polynomial regression function we're using is defined:\n"
     ]
    },
    {
     "data": {
      "text/latex": [
       "$$f(x,w) = \\sum_{i=0}^{n}w_{i}x^i$$"
      ],
      "text/plain": [
       "<IPython.core.display.Math object>"
      ]
     },
     "metadata": {},
     "output_type": "display_data"
    }
   ],
   "source": [
    "def y(x,weights):\n",
    "    yVector = [weights[i]*x**i for i in range(0,len(weights))]\n",
    "    return sum(yVector)\n",
    "print(\"The polynomial regression function we're using is defined:\")\n",
    "display(Math(r'f(x,w) = \\sum_{i=0}^{n}w_{i}x^i'))"
   ]
  },
  {
   "cell_type": "markdown",
   "metadata": {},
   "source": [
    "### Loss Functions"
   ]
  },
  {
   "cell_type": "code",
   "execution_count": 6,
   "metadata": {
    "collapsed": false
   },
   "outputs": [
    {
     "name": "stdout",
     "output_type": "stream",
     "text": [
      "The two loss functions we will look at are:\n"
     ]
    },
    {
     "data": {
      "text/latex": [
       "$$loss(x) = \\frac{1}{2m}\\bigg(\\sum_{i=1}^{m}\\big(f(x_i,W) - y_i\\big)^2\\bigg)$$"
      ],
      "text/plain": [
       "<IPython.core.display.Math object>"
      ]
     },
     "metadata": {},
     "output_type": "display_data"
    },
    {
     "data": {
      "text/latex": [
       "$$lossWD(x) = \\frac{1}{2m}\\bigg(\\sum_{i=1}^{m}\\big(f(x_i,W) - y_i\\big)^2\\bigg) + \\frac{\\lambda}{2}||W||^2$$"
      ],
      "text/plain": [
       "<IPython.core.display.Math object>"
      ]
     },
     "metadata": {},
     "output_type": "display_data"
    },
    {
     "name": "stdout",
     "output_type": "stream",
     "text": [
      " lossWD(x) includes a weight decay function used for regularisation of the model\n"
     ]
    }
   ],
   "source": [
    "# Basic cost funct.\n",
    "# divided through by training data length the normalize\n",
    "def loss(w,trainData):\n",
    "    cost = 0\n",
    "    for i in range(0,len(trainData)):\n",
    "        cost += (y(trainData[i][0],w) - trainData[i][1])**2 \n",
    "    return cost/(2*len(trainData))\n",
    "\n",
    "# Cost funct. with weight decay\n",
    "# remember to add ld to main funct. when using\n",
    "def lossWD(w, trainData,ld):\n",
    "    cost = 0\n",
    "    for i in range(0,len(trainData)):\n",
    "        cost += (y(trainData[i][0],w) - trainData[i][1])**2 + (ld/2)*abs(sum(w))**2\n",
    "    return cost/(2*len(trainData))\n",
    "\n",
    "print( \"The two loss functions we will look at are:\")\n",
    "display(Math(r'loss(x) = \\frac{1}{2m}\\bigg(\\sum_{i=1}^{m}\\big(f(x_i,W) - y_i\\big)^2\\bigg)'))\n",
    "display(Math(r'lossWD(x) = \\frac{1}{2m}\\bigg(\\sum_{i=1}^{m}\\big(f(x_i,W) - y_i\\big)^2\\bigg) + \\frac{\\lambda}{2}||W||^2'))\n",
    "print(\" lossWD(x) includes a weight decay function used for regularisation of the model\")"
   ]
  },
  {
   "cell_type": "markdown",
   "metadata": {},
   "source": [
    "### Gradient Descent Function"
   ]
  },
  {
   "cell_type": "code",
   "execution_count": 7,
   "metadata": {
    "collapsed": false
   },
   "outputs": [
    {
     "name": "stdout",
     "output_type": "stream",
     "text": [
      "The gradient descent algorithm for this polynomial learner is:\n"
     ]
    },
    {
     "data": {
      "text/latex": [
       "$$w_i = w_i-\\frac{\\alpha}{n}\\sum_{j=1}^{n}\\big(f(x_j,W)-y_j\\big)x_j^i$$"
      ],
      "text/plain": [
       "<IPython.core.display.Math object>"
      ]
     },
     "metadata": {},
     "output_type": "display_data"
    }
   ],
   "source": [
    "def gradDescent(weighting,trainData,learnRate,ld):\n",
    "    wGrad = np.zeros(len(weighting))\n",
    "    N = len(trainData)\n",
    "    for point in range(0, N):   \n",
    "        for i in range(0, len(weighting)):\n",
    "            wGrad[i] += trainData[point][0]**i*(y(trainData[point][0],weighting) \\\n",
    "            - trainData[point][1]) - ld*abs(weighting[i])\n",
    "    w_ = [origW - learnRate*(float(1)/float(N))*wIter for origW, wIter \\\n",
    "          in zip(weighting, wGrad)]\n",
    "    return w_\n",
    "\n",
    "print( \"The gradient descent algorithm for this polynomial learner is:\")\n",
    "display(Math(r'w_i = w_i-\\frac{\\alpha}{n}\\sum_{j=1}^{n}\\big(f(x_j,W)-y_j\\big)x_j^i'))"
   ]
  },
  {
   "cell_type": "markdown",
   "metadata": {},
   "source": [
    "## Training Process"
   ]
  },
  {
   "cell_type": "markdown",
   "metadata": {},
   "source": [
    "### Optimisation Function"
   ]
  },
  {
   "cell_type": "code",
   "execution_count": 8,
   "metadata": {
    "collapsed": false
   },
   "outputs": [
    {
     "name": "stdout",
     "output_type": "stream",
     "text": [
      "optimise_() is a iterative function using gradient descent to find the optimal values for the weighting vector.\n"
     ]
    }
   ],
   "source": [
    "# Iteration Function\n",
    "# optimise_() returns an array of the weights and error at n/4, n/2, 3n/4, n iterations.\"\n",
    "def optimise_(weighting, trainData, learnRate, ld, maxIter, minTOL):\n",
    "    n = 0\n",
    "    TOL = 10e10\n",
    "    optList = [] # Probably should change var name\n",
    "    # look in bishops book, Tychonov regularization, ld = 1.0 e-18\n",
    "    while n < maxIter and  TOL > minTOL:\n",
    "        weighting = gradDescent(weighting, trainData, learnRate,ld)\n",
    "        TOL = loss(weighting, trainData)\n",
    "        n += 1\n",
    "        if n%(int(round(maxIter/5))) == 0:\n",
    "            optList += [[n, TOL, weighting]]\n",
    "            print(\"The TOL at n = \" + str(n) +\" is \" + str(round(TOL,6))) \n",
    "    return optList\n",
    "print(\"optimise_() is a iterative function using gradient descent to find the optimal\" \\\n",
    "     + \" values for the weighting vector.\")"
   ]
  },
  {
   "cell_type": "markdown",
   "metadata": {},
   "source": [
    "### Optimise Hyperparmeters"
   ]
  },
  {
   "cell_type": "code",
   "execution_count": 9,
   "metadata": {
    "collapsed": false
   },
   "outputs": [
    {
     "name": "stdout",
     "output_type": "stream",
     "text": [
      "hyperParamOpt() performs a grid search to find the optimal hyperparameters to solve this     problem.\n",
      "The hyperparameters in the polynomial learner problem are: weightIndex, learnRate, and the   weight decay lambda variable.\n"
     ]
    }
   ],
   "source": [
    "# Performs a grid search to find the optimimum hyperparam. values.\n",
    "# The hyperparam in this case are the learning rate, the max. coefficient of the weighting\n",
    "# \n",
    "def hyperParamOpt(): \n",
    "    optError = 10e10; initWeights = None\n",
    "    for maxWeightCoef in [i for i in range(3,10)]:\n",
    "        for learnRate in [10**(-i) for i in range(2,7)]:\n",
    "            for alpha in [10**(-i) for i in range(2,7)]:\n",
    "                weights = [2*rnd.random()-1 for x in range(0,maxWeightCoef)]\n",
    "                wList, _ = optimise(weights, trainData, alpha, learnRate, 1000, 0.005)\n",
    "                Error = loss(wList,trainData)\n",
    "                #print [Error, maxWeightCoef, learnRate, alpha]\n",
    "                if Error < optError:\n",
    "                    optConditions = [Error, maxWeightCoef, learnRate, alpha]\n",
    "                    optError = Error\n",
    "                    initWeights = weights\n",
    "        print maxWeightCoef\n",
    "    return optConditions, initWeights\n",
    "#optHyperparam, initWeights = hyperParamOpt()\n",
    "#print optHyperparam\n",
    "\n",
    "print(\"hyperParamOpt() performs a grid search to find the optimal hyperparameters to \" \\\n",
    "      + \"solve this     problem.\")\n",
    "print(\"The hyperparameters in the polynomial learner problem are: weightIndex, learnRate, \" \\\n",
    "      + \"and the   weight decay lambda variable.\")"
   ]
  },
  {
   "cell_type": "markdown",
   "metadata": {},
   "source": [
    "## Learner Results"
   ]
  },
  {
   "cell_type": "markdown",
   "metadata": {},
   "source": [
    "### Perform Optimisation"
   ]
  },
  {
   "cell_type": "code",
   "execution_count": 10,
   "metadata": {
    "collapsed": false,
    "scrolled": true
   },
   "outputs": [
    {
     "name": "stdout",
     "output_type": "stream",
     "text": [
      "The TOL at n = 1600 is 0.185758\n",
      "The TOL at n = 3200 is 0.176207\n",
      "The TOL at n = 4800 is 0.169219\n",
      "The TOL at n = 6400 is 0.164088\n",
      "The TOL at n = 8000 is 0.160318\n"
     ]
    },
    {
     "data": {
      "image/png": "[encoded data removed]",
      "text/plain": [
       "<matplotlib.figure.Figure at 0x7ff62089fd50>"
      ]
     },
     "metadata": {},
     "output_type": "display_data"
    }
   ],
   "source": [
    "# def optimise(weighting, trainData, learnRate, ld, maxIter, minTOL):\n",
    "initWeights = [2*rnd.random()-1 for x in range(10)]\n",
    "X_ = sorted(X)\n",
    "optList = optimise_(initWeights, trainData, 1, 1e-5, 8000, 0.005)\n",
    "plt.plot(X,Y,\"o\")\n",
    "for i in range(len(optList)):\n",
    "    y_ = [y(x, optList[i][2]) for x in X_]\n",
    "    plt.plot(X_, y_)\n",
    "plt.ylabel(\"Y Data\")\n",
    "plt.xlabel(\"X Data\")\n",
    "plt.show()"
   ]
  },
  {
   "cell_type": "markdown",
   "metadata": {},
   "source": [
    "### Plot Function y_(x,W) with Optimised Weights"
   ]
  },
  {
   "cell_type": "code",
   "execution_count": 11,
   "metadata": {
    "collapsed": false
   },
   "outputs": [
    {
     "name": "stdout",
     "output_type": "stream",
     "text": [
      "[0.16622936499735355, 6.0051852683528413, -11.603651158937097, -4.3401286970614112, 2.1716517140607925, 5.5427456913754707, 5.2411058041691803, 3.0767348929876293, -1.0754301298281213, -5.4815453247864978]\n"
     ]
    },
    {
     "data": {
      "image/png": "[encoded data removed]",
      "text/plain": [
       "<matplotlib.figure.Figure at 0x7ff620789650>"
      ]
     },
     "metadata": {},
     "output_type": "display_data"
    }
   ],
   "source": [
    "optWeights = optList[-1][2]\n",
    "trainTOL = optList[-1][1]\n",
    "print(optWeights)\n",
    "y_ = [y(x,optWeights) for x in X_]\n",
    "plt.plot(X,Y,\"o\")\n",
    "plt.plot(X_,y_)\n",
    "plt.ylabel(\"Y Data\")\n",
    "plt.xlabel(\"X Data\")\n",
    "plt.show()"
   ]
  },
  {
   "cell_type": "markdown",
   "metadata": {},
   "source": [
    "### Analyse Results with Test Set"
   ]
  },
  {
   "cell_type": "code",
   "execution_count": 12,
   "metadata": {
    "collapsed": false
   },
   "outputs": [
    {
     "name": "stdout",
     "output_type": "stream",
     "text": [
      "The training set error is 0.160318\n",
      "The test set error is 0.115949\n",
      "This gives a generalization error of 0.044369 or 0.383%\n"
     ]
    },
    {
     "data": {
      "image/png": "[encoded data removed]",
      "text/plain": [
       "<matplotlib.figure.Figure at 0x7ff6206b3110>"
      ]
     },
     "metadata": {},
     "output_type": "display_data"
    }
   ],
   "source": [
    "testVals = 50\n",
    "XTest = [rnd.random() for r in xrange(testVals)]\n",
    "YTest = [np.sin(2*np.pi*x) + np.random.normal(0,0.5) for x in XTest]\n",
    "testData = np.column_stack((XTest,YTest))\n",
    "testTOL = loss(optWeights, testData)\n",
    "genError = abs(trainTOL - testTOL)\n",
    "genErrorPercent = genError/testTOL\n",
    "XTest_ = sorted(XTest)\n",
    "yTest_ = [y(x,optWeights) for x in XTest_]\n",
    "print(\"The training set error is \" + str(round(trainTOL,6)))\n",
    "print(\"The test set error is \" + str(round(testTOL,6)))\n",
    "print(\"This gives a generalization error of \" + str(round(genError,6)) + \" or \" \\\n",
    "      + str(round(genErrorPercent,3)) + \"%\")\n",
    "plt.plot(XTest,YTest,\"o\")\n",
    "plt.plot(XTest_,yTest_)\n",
    "plt.ylabel(\"Y Data\")\n",
    "plt.xlabel(\"X Data\")\n",
    "plt.show()"
   ]
  }
 ],
 "metadata": {
  "kernelspec": {
   "display_name": "Python 2",
   "language": "python",
   "name": "python2"
  },
  "language_info": {
   "codemirror_mode": {
    "name": "ipython",
    "version": 2
   },
   "file_extension": ".py",
   "mimetype": "text/x-python",
   "name": "python",
   "nbconvert_exporter": "python",
   "pygments_lexer": "ipython2",
   "version": "2.7.13"
  }
 },
 "nbformat": 4,
 "nbformat_minor": 0
}
